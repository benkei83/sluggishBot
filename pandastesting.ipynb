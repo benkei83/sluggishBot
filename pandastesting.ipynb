{
 "cells": [
  {
   "cell_type": "code",
   "execution_count": 1,
   "metadata": {},
   "outputs": [],
   "source": [
    "import pandas as pd\n",
    "from matplotlib import pyplot as plt\n",
    "import random"
   ]
  },
  {
   "cell_type": "code",
   "execution_count": 2,
   "metadata": {},
   "outputs": [
    {
     "data": {
      "text/html": [
       "<div>\n",
       "<style scoped>\n",
       "    .dataframe tbody tr th:only-of-type {\n",
       "        vertical-align: middle;\n",
       "    }\n",
       "\n",
       "    .dataframe tbody tr th {\n",
       "        vertical-align: top;\n",
       "    }\n",
       "\n",
       "    .dataframe thead th {\n",
       "        text-align: right;\n",
       "    }\n",
       "</style>\n",
       "<table border=\"1\" class=\"dataframe\">\n",
       "  <thead>\n",
       "    <tr style=\"text-align: right;\">\n",
       "      <th></th>\n",
       "      <th>Mode</th>\n",
       "      <th>Nick</th>\n",
       "      <th>Hero</th>\n",
       "      <th>Stat</th>\n",
       "      <th>Value</th>\n",
       "    </tr>\n",
       "    <tr>\n",
       "      <th>Time</th>\n",
       "      <th></th>\n",
       "      <th></th>\n",
       "      <th></th>\n",
       "      <th></th>\n",
       "      <th></th>\n",
       "    </tr>\n",
       "  </thead>\n",
       "  <tbody>\n",
       "    <tr>\n",
       "      <th>2021-02-01</th>\n",
       "      <td>Quickplay</td>\n",
       "      <td>slug</td>\n",
       "      <td>ALL HEROES</td>\n",
       "      <td>Barrier Damage Done - Most in Game</td>\n",
       "      <td>6074.00</td>\n",
       "    </tr>\n",
       "    <tr>\n",
       "      <th>2021-02-01</th>\n",
       "      <td>Quickplay</td>\n",
       "      <td>slug</td>\n",
       "      <td>ALL HEROES</td>\n",
       "      <td>Defensive Assists - Most in Game</td>\n",
       "      <td>19.00</td>\n",
       "    </tr>\n",
       "    <tr>\n",
       "      <th>2021-02-01</th>\n",
       "      <td>Quickplay</td>\n",
       "      <td>slug</td>\n",
       "      <td>ALL HEROES</td>\n",
       "      <td>Eliminations - Most in Game</td>\n",
       "      <td>33.00</td>\n",
       "    </tr>\n",
       "    <tr>\n",
       "      <th>2021-02-01</th>\n",
       "      <td>Quickplay</td>\n",
       "      <td>slug</td>\n",
       "      <td>ALL HEROES</td>\n",
       "      <td>Final Blows - Most in Game</td>\n",
       "      <td>19.00</td>\n",
       "    </tr>\n",
       "    <tr>\n",
       "      <th>2021-02-01</th>\n",
       "      <td>Quickplay</td>\n",
       "      <td>slug</td>\n",
       "      <td>ALL HEROES</td>\n",
       "      <td>Healing Done - Most in Game</td>\n",
       "      <td>9447.00</td>\n",
       "    </tr>\n",
       "    <tr>\n",
       "      <th>...</th>\n",
       "      <td>...</td>\n",
       "      <td>...</td>\n",
       "      <td>...</td>\n",
       "      <td>...</td>\n",
       "      <td>...</td>\n",
       "    </tr>\n",
       "    <tr>\n",
       "      <th>2021-03-18</th>\n",
       "      <td>Competitive</td>\n",
       "      <td>lundefugl</td>\n",
       "      <td>Bastion</td>\n",
       "      <td>Hero Damage Done - Avg per 10 Min</td>\n",
       "      <td>8726.00</td>\n",
       "    </tr>\n",
       "    <tr>\n",
       "      <th>2021-03-18</th>\n",
       "      <td>Competitive</td>\n",
       "      <td>lundefugl</td>\n",
       "      <td>Bastion</td>\n",
       "      <td>Objective Kills - Avg per 10 Min</td>\n",
       "      <td>7.77</td>\n",
       "    </tr>\n",
       "    <tr>\n",
       "      <th>2021-03-18</th>\n",
       "      <td>Competitive</td>\n",
       "      <td>lundefugl</td>\n",
       "      <td>Bastion</td>\n",
       "      <td>Objective Time - Avg per 10 Min</td>\n",
       "      <td>34.00</td>\n",
       "    </tr>\n",
       "    <tr>\n",
       "      <th>2021-03-18</th>\n",
       "      <td>Competitive</td>\n",
       "      <td>lundefugl</td>\n",
       "      <td>Bastion</td>\n",
       "      <td>Solo Kills - Avg per 10 Min</td>\n",
       "      <td>4.51</td>\n",
       "    </tr>\n",
       "    <tr>\n",
       "      <th>2021-03-18</th>\n",
       "      <td>Competitive</td>\n",
       "      <td>lundefugl</td>\n",
       "      <td>Bastion</td>\n",
       "      <td>Time Spent on Fire - Avg per 10 Min</td>\n",
       "      <td>78.00</td>\n",
       "    </tr>\n",
       "  </tbody>\n",
       "</table>\n",
       "<p>319884 rows × 5 columns</p>\n",
       "</div>"
      ],
      "text/plain": [
       "                   Mode       Nick        Hero  \\\n",
       "Time                                             \n",
       "2021-02-01    Quickplay       slug  ALL HEROES   \n",
       "2021-02-01    Quickplay       slug  ALL HEROES   \n",
       "2021-02-01    Quickplay       slug  ALL HEROES   \n",
       "2021-02-01    Quickplay       slug  ALL HEROES   \n",
       "2021-02-01    Quickplay       slug  ALL HEROES   \n",
       "...                 ...        ...         ...   \n",
       "2021-03-18  Competitive  lundefugl     Bastion   \n",
       "2021-03-18  Competitive  lundefugl     Bastion   \n",
       "2021-03-18  Competitive  lundefugl     Bastion   \n",
       "2021-03-18  Competitive  lundefugl     Bastion   \n",
       "2021-03-18  Competitive  lundefugl     Bastion   \n",
       "\n",
       "                                           Stat    Value  \n",
       "Time                                                      \n",
       "2021-02-01   Barrier Damage Done - Most in Game  6074.00  \n",
       "2021-02-01     Defensive Assists - Most in Game    19.00  \n",
       "2021-02-01          Eliminations - Most in Game    33.00  \n",
       "2021-02-01           Final Blows - Most in Game    19.00  \n",
       "2021-02-01          Healing Done - Most in Game  9447.00  \n",
       "...                                         ...      ...  \n",
       "2021-03-18    Hero Damage Done - Avg per 10 Min  8726.00  \n",
       "2021-03-18     Objective Kills - Avg per 10 Min     7.77  \n",
       "2021-03-18      Objective Time - Avg per 10 Min    34.00  \n",
       "2021-03-18          Solo Kills - Avg per 10 Min     4.51  \n",
       "2021-03-18  Time Spent on Fire - Avg per 10 Min    78.00  \n",
       "\n",
       "[319884 rows x 5 columns]"
      ]
     },
     "execution_count": 2,
     "metadata": {},
     "output_type": "execute_result"
    }
   ],
   "source": [
    "df = pd.read_csv('data/stats.csv', encoding='utf-8')\n",
    "df.columns = ['Time', 'Mode', 'Nick', 'Hero', 'Stat', 'Value']\n",
    "df['Time'] = pd.to_datetime(df['Time']).dt.date\n",
    "df.set_index('Time')"
   ]
  },
  {
   "cell_type": "code",
   "execution_count": 3,
   "metadata": {},
   "outputs": [
    {
     "name": "stdout",
     "output_type": "stream",
     "text": [
      "Stat        Deaths  Eliminations       E/D  Death Diff  Elim Diff       E/D2\n",
      "Time                                                                        \n",
      "2021-02-01   890.0        1981.0  2.225843         NaN        NaN        NaN\n",
      "2021-02-02   894.0        1990.0  2.225951         4.0        9.0   2.250000\n",
      "2021-02-03   938.0        2094.0  2.232409        44.0      104.0   2.363636\n",
      "2021-02-04   968.0        2156.0  2.227273        30.0       62.0   2.066667\n",
      "2021-02-05   998.0        2240.0  2.244489        30.0       84.0   2.800000\n",
      "2021-02-06  1081.0        2432.0  2.249769        83.0      192.0   2.313253\n",
      "2021-02-07  1083.0        2451.0  2.263158         2.0       19.0   9.500000\n",
      "2021-02-08  1090.0        2457.0  2.254128         7.0        6.0   0.857143\n",
      "2021-02-09  1129.0        2549.0  2.257750        39.0       92.0   2.358974\n",
      "2021-02-10  1163.0        2700.0  2.321582        34.0      151.0   4.441176\n",
      "2021-02-11  1163.0        2700.0  2.321582         0.0        0.0        NaN\n",
      "2021-02-12  1184.0        2763.0  2.333615        21.0       63.0   3.000000\n",
      "2021-02-13  1282.0        3039.0  2.370515        98.0      276.0   2.816327\n",
      "2021-02-14  1284.0        3061.0  2.383956         2.0       22.0  11.000000\n",
      "2021-02-15  1284.0        3061.0  2.383956         0.0        0.0        NaN\n",
      "2021-02-16  1284.0        3061.0  2.383956         0.0        0.0        NaN\n",
      "2021-02-17  1336.0        3181.0  2.380988        52.0      120.0   2.307692\n",
      "2021-02-18  1346.0        3215.0  2.388559        10.0       34.0   3.400000\n",
      "2021-02-19  1348.0        3223.0  2.390950         2.0        8.0   4.000000\n",
      "2021-02-20  1389.0        3318.0  2.388769        41.0       95.0   2.317073\n",
      "2021-02-21  1392.0        3331.0  2.392960         3.0       13.0   4.333333\n",
      "2021-02-22  1430.0        3405.0  2.381119        38.0       74.0   1.947368\n",
      "2021-02-23  1492.0        3590.0  2.406166        62.0      185.0   2.983871\n",
      "2021-02-24  1531.0        3721.0  2.430438        39.0      131.0   3.358974\n",
      "2021-02-25  1531.0        3721.0  2.430438         0.0        0.0        NaN\n",
      "2021-02-26  1564.0        3810.0  2.436061        33.0       89.0   2.696970\n",
      "2021-02-27  1564.0        3810.0  2.436061         0.0        0.0        NaN\n",
      "2021-02-28  1580.0        3825.0  2.420886        16.0       15.0   0.937500\n",
      "2021-03-01  1610.0        3900.0  2.422360        30.0       75.0   2.500000\n",
      "2021-03-02  1620.0        3918.0  2.418519        10.0       18.0   1.800000\n",
      "2021-03-03  1673.0        4068.0  2.431560        53.0      150.0   2.830189\n",
      "2021-03-04  1714.0        4158.0  2.425904        41.0       90.0   2.195122\n",
      "2021-03-05  1714.0        4158.0  2.425904         0.0        0.0        NaN\n",
      "2021-03-06  1714.0        4158.0  2.425904         0.0        0.0        NaN\n",
      "2021-03-07  1724.0        4165.0  2.415893        10.0        7.0   0.700000\n",
      "2021-03-08  1724.0        4165.0  2.415893         0.0        0.0        NaN\n",
      "2021-03-09  1724.0        4165.0  2.415893         0.0        0.0        NaN\n",
      "2021-03-10  1724.0        4165.0  2.415893         0.0        0.0        NaN\n",
      "2021-03-11  1724.0        4165.0  2.415893         0.0        0.0        NaN\n",
      "2021-03-12  1724.0        4165.0  2.415893         0.0        0.0        NaN\n",
      "2021-03-13  1724.0        4165.0  2.415893         0.0        0.0        NaN\n",
      "2021-03-14  1724.0        4165.0  2.415893         0.0        0.0        NaN\n",
      "2021-03-15  1724.0        4165.0  2.415893         0.0        0.0        NaN\n",
      "2021-03-16  1724.0        4165.0  2.415893         0.0        0.0        NaN\n",
      "2021-03-17  1730.0        4187.0  2.420231         6.0       22.0   3.666667\n",
      "2021-03-18  1730.0        4187.0  2.420231         0.0        0.0        NaN\n"
     ]
    }
   ],
   "source": [
    "slug = df[(df['Nick'] == 'slug') & (df['Mode'] == 'Quickplay') & (df['Hero'] == 'Soldier: 76') & (df['Stat'].isin(['Eliminations','Deaths'])) ].pivot(index='Time', columns='Stat', values='Value')\n",
    "slug['E/D'] = slug['Eliminations']/slug['Deaths']\n",
    "slug['Death Diff'] = slug['Deaths'].diff()\n",
    "slug['Elim Diff'] = slug['Eliminations'].diff()\n",
    "slug['E/D2'] = slug['Elim Diff']/slug['Death Diff']\n",
    "print(slug)"
   ]
  },
  {
   "cell_type": "code",
   "execution_count": 4,
   "metadata": {},
   "outputs": [
    {
     "data": {
      "image/png": "[encoded data removed]",
      "text/plain": [
       "<Figure size 432x288 with 1 Axes>"
      ]
     },
     "metadata": {
      "needs_background": "light"
     },
     "output_type": "display_data"
    }
   ],
   "source": [
    "slug['E/D2'].plot.bar()\n",
    "plt.xticks(rotation=90)\n",
    "plt.show()"
   ]
  },
  {
   "cell_type": "code",
   "execution_count": 5,
   "metadata": {},
   "outputs": [],
   "source": [
    "tmp = df[(df['Hero'] == 'Soldier: 76') & (df['Nick'] == 'slug') & (df['Mode'] == 'Quickplay') & (df['Stat'] == 'Critical Hit Accuracy')]"
   ]
  },
  {
   "cell_type": "code",
   "execution_count": 6,
   "metadata": {},
   "outputs": [],
   "source": [
    "diff_df = [df['Time'], df['Value'].diff()]"
   ]
  },
  {
   "cell_type": "code",
   "execution_count": 7,
   "metadata": {},
   "outputs": [],
   "source": [
    "# categories = sorted(df['Stat'].unique().tolist())\n",
    "# for category in categories:\n",
    "#     print(category)"
   ]
  },
  {
   "cell_type": "code",
   "execution_count": 8,
   "metadata": {},
   "outputs": [],
   "source": [
    "# len(categories)"
   ]
  },
  {
   "cell_type": "code",
   "execution_count": 9,
   "metadata": {},
   "outputs": [
    {
     "name": "stdout",
     "output_type": "stream",
     "text": [
      "Stat        Games Played  Medals     Ratio\n",
      "Time                                      \n",
      "2021-02-01         157.0   572.0  3.643312\n",
      "2021-02-02         159.0   579.0  3.641509\n",
      "2021-02-03         165.0   600.0  3.636364\n",
      "2021-02-04         172.0   623.0  3.622093\n",
      "2021-02-05         176.0   638.0  3.625000\n",
      "2021-02-06         190.0   693.0  3.647368\n",
      "2021-02-07         191.0   696.0  3.643979\n",
      "2021-02-08         192.0   700.0  3.645833\n",
      "2021-02-09         200.0   728.0  3.640000\n",
      "2021-02-10         207.0   755.0  3.647343\n",
      "2021-02-11         207.0   755.0  3.647343\n",
      "2021-02-12         211.0   769.0  3.644550\n",
      "2021-02-13         226.0   825.0  3.650442\n",
      "2021-02-14         227.0   830.0  3.656388\n",
      "2021-02-15         227.0   830.0  3.656388\n",
      "2021-02-16         227.0   830.0  3.656388\n",
      "2021-02-17         235.0   853.0  3.629787\n",
      "2021-02-18         238.0   861.0  3.617647\n",
      "2021-02-19         239.0   866.0  3.623431\n",
      "2021-02-20         246.0   888.0  3.609756\n",
      "2021-02-21         247.0   890.0  3.603239\n",
      "2021-02-22         253.0   909.0  3.592885\n",
      "2021-02-23         264.0   950.0  3.598485\n",
      "2021-02-24         272.0   980.0  3.602941\n",
      "2021-02-25         272.0   980.0  3.602941\n",
      "2021-02-26         279.0  1004.0  3.598566\n",
      "2021-02-27         279.0  1004.0  3.598566\n",
      "2021-02-28         281.0  1011.0  3.597865\n",
      "2021-03-01         288.0  1033.0  3.586806\n",
      "2021-03-02         289.0  1037.0  3.588235\n",
      "2021-03-03         300.0  1077.0  3.590000\n",
      "2021-03-04         304.0  1097.0  3.608553\n",
      "2021-03-05         304.0  1097.0  3.608553\n",
      "2021-03-06         304.0  1097.0  3.608553\n",
      "2021-03-07         305.0  1099.0  3.603279\n",
      "2021-03-08         305.0  1099.0  3.603279\n",
      "2021-03-09         305.0  1099.0  3.603279\n",
      "2021-03-10         305.0  1099.0  3.603279\n",
      "2021-03-11         305.0  1099.0  3.603279\n",
      "2021-03-12         305.0  1099.0  3.603279\n",
      "2021-03-13         305.0  1099.0  3.603279\n",
      "2021-03-14         305.0  1099.0  3.603279\n",
      "2021-03-15         305.0  1099.0  3.603279\n",
      "2021-03-16         305.0  1099.0  3.603279\n",
      "2021-03-17         306.0  1103.0  3.604575\n",
      "2021-03-18         306.0  1103.0  3.604575\n"
     ]
    }
   ],
   "source": [
    "ratio = df[(df['Nick'] == 'slug') & (df['Mode'] == 'Quickplay') & (df['Hero'] == 'Soldier: 76') & (df['Stat'].isin(['Medals','Games Played'])) ].pivot(index='Time', columns='Stat', values='Value')\n",
    "ratio['Ratio'] = ratio['Medals']/ratio['Games Played']\n",
    "print(ratio)"
   ]
  },
  {
   "cell_type": "code",
   "execution_count": 10,
   "metadata": {},
   "outputs": [
    {
     "data": {
      "image/png": "[encoded data removed]",
      "text/plain": [
       "<Figure size 432x288 with 1 Axes>"
      ]
     },
     "metadata": {
      "needs_background": "light"
     },
     "output_type": "display_data"
    }
   ],
   "source": [
    "ratio['Ratio'].plot()\n",
    "plt.xticks(rotation=90)\n",
    "plt.show()"
   ]
  },
  {
   "cell_type": "code",
   "execution_count": 11,
   "metadata": {},
   "outputs": [
    {
     "data": {
      "image/png": "[encoded data removed]",
      "text/plain": [
       "<Figure size 432x288 with 2 Axes>"
      ]
     },
     "metadata": {
      "needs_background": "light"
     },
     "output_type": "display_data"
    },
    {
     "name": "stdout",
     "output_type": "stream",
     "text": [
      "Hero        Baptiste   Mercy\n",
      "Time                        \n",
      "2021-02-01    3206.0  3727.0\n",
      "2021-02-02    3206.0  3727.0\n",
      "2021-02-03    3203.0  3669.0\n",
      "2021-02-04    3203.0  3669.0\n",
      "2021-02-05    3274.0  3729.0\n",
      "2021-02-06    3274.0  4005.0\n",
      "2021-02-07    3274.0  4005.0\n",
      "2021-02-08    3274.0  4005.0\n",
      "2021-02-09    3274.0  4005.0\n",
      "2021-02-10    3260.0  4169.0\n",
      "2021-02-11    3260.0  4169.0\n",
      "2021-02-12    3271.0  4169.0\n",
      "2021-02-13    3326.0  4403.0\n",
      "2021-02-14    3326.0  4403.0\n",
      "2021-02-15    3326.0  4403.0\n",
      "2021-02-16    3326.0  4403.0\n",
      "2021-02-17    3321.0  4435.0\n",
      "2021-02-18    3321.0  4435.0\n",
      "2021-02-19    3321.0  4435.0\n",
      "2021-02-20    3321.0  4690.0\n",
      "2021-02-21    3321.0  4690.0\n",
      "2021-02-22    3389.0  4822.0\n",
      "2021-02-23    3389.0  4921.0\n",
      "2021-02-24    3389.0  4937.0\n",
      "2021-02-25    3389.0  4948.0\n",
      "2021-02-26    3389.0  4948.0\n",
      "2021-02-27    3389.0  4948.0\n",
      "2021-02-28    3389.0  4948.0\n",
      "2021-03-01    3389.0  4948.0\n",
      "2021-03-02    3389.0  4948.0\n",
      "2021-03-03    3388.0  5037.0\n",
      "2021-03-04    3388.0  5037.0\n",
      "2021-03-05    3385.0  5085.0\n",
      "2021-03-06    3385.0  5085.0\n",
      "2021-03-07    3385.0  5085.0\n",
      "2021-03-08    3385.0  5085.0\n",
      "2021-03-09    3397.0  5214.0\n",
      "2021-03-10    3397.0  5423.0\n",
      "2021-03-11    3397.0  5423.0\n",
      "2021-03-12    3397.0  5423.0\n",
      "2021-03-13    3397.0  5431.0\n",
      "2021-03-14    3397.0  5431.0\n",
      "2021-03-15    3397.0  5431.0\n",
      "2021-03-16    3397.0  5431.0\n",
      "2021-03-17    3425.0  5583.0\n",
      "2021-03-18    3425.0  5583.0\n"
     ]
    }
   ],
   "source": [
    "hero1 = df[(df['Nick'] == 'myoung') & (df['Mode'] == 'Quickplay') & (df['Hero'].isin(['Baptiste', 'Mercy'])) & (df['Stat'] == 'Healing Done - Avg per 10 Min')].pivot(index='Time', columns='Hero', values='Value')\n",
    "\n",
    "\n",
    "# ax = hero1['Value'].plot()\n",
    "hero1['Baptiste'].plot()\n",
    "hero1['Mercy'].plot(secondary_y=True, style=\"g\");\n",
    "# hero2['Value'].plot(ax=ax)\n",
    "plt.legend(['Baptiste', 'Mercy'])\n",
    "plt.show()\n",
    "print(hero1)"
   ]
  },
  {
   "cell_type": "code",
   "execution_count": 12,
   "metadata": {},
   "outputs": [
    {
     "name": "stdout",
     "output_type": "stream",
     "text": [
      "<class 'list'>\n",
      "['ALL HEROES', 'Ana', 'Baptiste', 'Bastion', 'Lúcio', 'Mei', 'Mercy', 'Moira', 'Orisa', 'Reinhardt', 'Roadhog', 'Sigma', 'Winston', 'Wrecking Ball', 'Zarya', 'Zenyatta', 'Soldier: 76', 'Brigitte']\n"
     ]
    }
   ],
   "source": [
    "stats = df[(df['Nick'] == 'myoung') & (df['Mode'] == 'Quickplay') & (df['Hero'].isin(['Baptiste', 'Mercy']))].Stat.unique().tolist()\n",
    "heroes = df[(df['Nick'] == 'myoung') & (df['Mode'] == 'Quickplay')].Hero.unique().tolist()\n",
    "print(type(stats))\n",
    "print(heroes)"
   ]
  },
  {
   "cell_type": "code",
   "execution_count": 13,
   "metadata": {},
   "outputs": [],
   "source": [
    "a = heroes.pop(1)"
   ]
  },
  {
   "cell_type": "code",
   "execution_count": 14,
   "metadata": {},
   "outputs": [],
   "source": [
    "herotime = df[(df['Nick'] == 'kidneypool') & (df['Stat'] == 'Time Played') & (df['Time'] == df.Time.max()) & (df['Hero'] != 'ALL HEROES')]\n",
    "pd.options.mode.chained_assignment = None\n",
    "herotime['Value'] = herotime['Value'].div(3600)\n",
    "herotime_pivot = herotime.pivot(index='Hero', columns='Mode', values='Value').sort_values(by='Quickplay')"
   ]
  },
  {
   "cell_type": "code",
   "execution_count": 15,
   "metadata": {},
   "outputs": [
    {
     "name": "stdout",
     "output_type": "stream",
     "text": [
      "30\n"
     ]
    }
   ],
   "source": [
    "print(len(herotime['Hero'].unique()))"
   ]
  },
  {
   "cell_type": "code",
   "execution_count": 16,
   "metadata": {},
   "outputs": [
    {
     "data": {
      "image/png": "[encoded data removed]",
      "text/plain": [
       "<Figure size 1800x1661.54 with 1 Axes>"
      ]
     },
     "metadata": {
      "needs_background": "light"
     },
     "output_type": "display_data"
    }
   ],
   "source": [
    "height = len(herotime['Hero'].unique()) / 1.3\n",
    "herotime_pivot.plot(kind='barh', figsize=(25, height)).grid(axis='x')\n",
    "plt.show()"
   ]
  },
  {
   "cell_type": "code",
   "execution_count": 17,
   "metadata": {},
   "outputs": [
    {
     "ename": "NameError",
     "evalue": "name 'mode' is not defined",
     "output_type": "error",
     "traceback": [
      "\u001b[1;31m---------------------------------------------------------------------------\u001b[0m",
      "\u001b[1;31mNameError\u001b[0m                                 Traceback (most recent call last)",
      "\u001b[1;32m<ipython-input-17-5e4db65f0bce>\u001b[0m in \u001b[0;36m<module>\u001b[1;34m\u001b[0m\n\u001b[1;32m----> 1\u001b[1;33m tmp = df[(df['Nick'] == 'slug') & (df['Mode'] == mode) & (df['Hero'] == hero) & (\n\u001b[0m\u001b[0;32m      2\u001b[0m     df['Stat'].isin([stat1, stat2]))].pivot(index='Time', columns='Stat', values='Value')\n\u001b[0;32m      3\u001b[0m \u001b[0mtmp\u001b[0m\u001b[1;33m[\u001b[0m\u001b[1;34m'Diff1'\u001b[0m\u001b[1;33m]\u001b[0m \u001b[1;33m=\u001b[0m \u001b[0mtmp\u001b[0m\u001b[1;33m[\u001b[0m\u001b[0mstat1\u001b[0m\u001b[1;33m]\u001b[0m\u001b[1;33m.\u001b[0m\u001b[0mdiff\u001b[0m\u001b[1;33m(\u001b[0m\u001b[1;33m)\u001b[0m\u001b[1;33m\u001b[0m\u001b[1;33m\u001b[0m\u001b[0m\n\u001b[0;32m      4\u001b[0m \u001b[0mtmp\u001b[0m\u001b[1;33m[\u001b[0m\u001b[1;34m'Diff2'\u001b[0m\u001b[1;33m]\u001b[0m \u001b[1;33m=\u001b[0m \u001b[0mtmp\u001b[0m\u001b[1;33m[\u001b[0m\u001b[0mstat2\u001b[0m\u001b[1;33m]\u001b[0m\u001b[1;33m.\u001b[0m\u001b[0mdiff\u001b[0m\u001b[1;33m(\u001b[0m\u001b[1;33m)\u001b[0m\u001b[1;33m\u001b[0m\u001b[1;33m\u001b[0m\u001b[0m\n\u001b[0;32m      5\u001b[0m \u001b[0mtmp\u001b[0m\u001b[1;33m[\u001b[0m\u001b[1;34m'Rate'\u001b[0m\u001b[1;33m]\u001b[0m \u001b[1;33m=\u001b[0m \u001b[0mtmp\u001b[0m\u001b[1;33m[\u001b[0m\u001b[1;34m'Diff1'\u001b[0m\u001b[1;33m]\u001b[0m\u001b[1;33m/\u001b[0m\u001b[0mtmp\u001b[0m\u001b[1;33m[\u001b[0m\u001b[1;34m'Diff2'\u001b[0m\u001b[1;33m]\u001b[0m\u001b[1;33m\u001b[0m\u001b[1;33m\u001b[0m\u001b[0m\n",
      "\u001b[1;31mNameError\u001b[0m: name 'mode' is not defined"
     ]
    }
   ],
   "source": [
    "tmp = df[(df['Nick'] == 'slug') & (df['Mode'] == mode) & (df['Hero'] == hero) & (\n",
    "    df['Stat'].isin([stat1, stat2]))].pivot(index='Time', columns='Stat', values='Value')\n",
    "tmp['Diff1'] = tmp[stat1].diff()\n",
    "tmp['Diff2'] = tmp[stat2].diff()\n",
    "tmp['Rate'] = tmp['Diff1']/tmp['Diff2']\n",
    "tmp['Rate'].plot.bar()\n",
    "plt.xticks(rotation=90)\n",
    "plt.title(f'Daily rate - {hero} - {stat1}/{stat2}')"
   ]
  },
  {
   "cell_type": "code",
   "execution_count": null,
   "metadata": {},
   "outputs": [],
   "source": [
    "print(df.Time.max())"
   ]
  },
  {
   "cell_type": "code",
   "execution_count": null,
   "metadata": {},
   "outputs": [],
   "source": [
    "recent = df[df['Time'] == df.Time.max()]"
   ]
  },
  {
   "cell_type": "code",
   "execution_count": null,
   "metadata": {},
   "outputs": [],
   "source": [
    "print(recent['Stat'].unique())"
   ]
  },
  {
   "cell_type": "code",
   "execution_count": null,
   "metadata": {},
   "outputs": [],
   "source": [
    "tmp = df[(df['Nick'] == 'lundefugl') & (df['Mode'] == 'Quickplay') & (df['Hero'] == 'ALL HEROES') & (\n",
    "    df['Stat'].isin(['Cards', 'Games Played']))].pivot(index='Time', columns='Stat', values='Value')\n",
    "tmp['cardrate'] = tmp['Cards'] / tmp['Games Played']\n",
    "print(tmp)"
   ]
  },
  {
   "cell_type": "code",
   "execution_count": null,
   "metadata": {},
   "outputs": [],
   "source": []
  },
  {
   "cell_type": "code",
   "execution_count": 33,
   "metadata": {},
   "outputs": [
    {
     "name": "stdout",
     "output_type": "stream",
     "text": [
      "Mode        Competitive  Quickplay\n",
      "Time                              \n",
      "2021-03-04          NaN      12.53\n",
      "2021-03-05          NaN      15.42\n",
      "2021-03-06          NaN      13.99\n",
      "2021-03-07          NaN      14.42\n",
      "2021-03-08          NaN      14.42\n",
      "2021-03-09          NaN      14.42\n",
      "2021-03-10          NaN      14.41\n",
      "2021-03-11          NaN      14.41\n",
      "2021-03-12          NaN      14.35\n",
      "2021-03-13          NaN      15.12\n",
      "2021-03-14          NaN      14.93\n",
      "2021-03-15          NaN      14.93\n",
      "2021-03-16          NaN      14.93\n",
      "2021-03-17          NaN      14.95\n",
      "2021-03-18        20.22      14.95\n"
     ]
    }
   ],
   "source": [
    "tobben = df[(df['Nick'] == 'slug') & (df['Hero'] == 'Torbjörn') & (df['Stat'] == 'Turret Kills - Avg per 10 Min')].pivot(index='Time', columns='Mode', values='Value')\n",
    "print(tobben)"
   ]
  },
  {
   "cell_type": "code",
   "execution_count": null,
   "metadata": {},
   "outputs": [],
   "source": []
  }
 ],
 "metadata": {
  "kernelspec": {
   "display_name": "Python 3",
   "language": "python",
   "name": "python3"
  },
  "language_info": {
   "codemirror_mode": {
    "name": "ipython",
    "version": 3
   },
   "file_extension": ".py",
   "mimetype": "text/x-python",
   "name": "python",
   "nbconvert_exporter": "python",
   "pygments_lexer": "ipython3",
   "version": "3.8.5"
  }
 },
 "nbformat": 4,
 "nbformat_minor": 4
}
