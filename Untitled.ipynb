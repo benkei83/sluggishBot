{
 "cells": [
  {
   "cell_type": "code",
   "execution_count": 1,
   "metadata": {},
   "outputs": [],
   "source": [
    "import pandas as pd\n",
    "from matplotlib import pyplot as plt"
   ]
  },
  {
   "cell_type": "code",
   "execution_count": 2,
   "metadata": {},
   "outputs": [],
   "source": [
    "df = pd.read_csv('data/stats.csv', encoding='unicode_escape')\n",
    "df.columns = ['Time', 'Mode', 'Nick', 'Hero', 'Stat', 'Value']\n",
    "df['Time'] = pd.to_datetime(df['Time']).dt.date"
   ]
  },
  {
   "cell_type": "code",
   "execution_count": 3,
   "metadata": {},
   "outputs": [],
   "source": [
    "slug = df[(df['Nick'] == 'slug') & (df['Mode'] == 'Quickplay') & (df['Hero'] == 'ALL HEROES') & (df['Stat'].isin(['Eliminations','Deaths'])) ].pivot(index='Time', columns='Stat', values='Value')\n",
    "slug['E/D'] = slug['Eliminations']/slug['Deaths']\n",
    "# slug['Diff'] = slug['Games Played'].diff()"
   ]
  },
  {
   "cell_type": "code",
   "execution_count": 4,
   "metadata": {},
   "outputs": [
    {
     "name": "stdout",
     "output_type": "stream",
     "text": [
      "Stat        Deaths  Eliminations       E/D\n",
      "Time                                      \n",
      "2021-02-01  1154.0        2652.0  2.298094\n",
      "2021-02-02  1158.0        2661.0  2.297927\n",
      "2021-02-03  1204.0        2769.0  2.299834\n",
      "2021-02-04  1234.0        2831.0  2.294165\n",
      "2021-02-05  1264.0        2915.0  2.306171\n",
      "2021-02-06  1361.0        3135.0  2.303453\n",
      "2021-02-07  1363.0        3154.0  2.314013\n",
      "2021-02-08  1375.0        3184.0  2.315636\n",
      "2021-02-09  1414.0        3276.0  2.316832\n",
      "2021-02-10  1456.0        3434.0  2.358516\n",
      "2021-02-11  1456.0        3434.0  2.358516\n",
      "2021-02-12  1485.0        3513.0  2.365657\n",
      "2021-02-13  1583.0        3789.0  2.393557\n",
      "2021-02-14  1603.0        3854.0  2.404242\n",
      "2021-02-15  1603.0        3854.0  2.404242\n",
      "2021-02-16  1603.0        3854.0  2.404242\n",
      "2021-02-17  1655.0        3974.0  2.401208\n",
      "2021-02-18  1665.0        4008.0  2.407207\n",
      "2021-02-19  1669.0        4029.0  2.414020\n"
     ]
    }
   ],
   "source": [
    "print(slug)"
   ]
  },
  {
   "cell_type": "code",
   "execution_count": 11,
   "metadata": {},
   "outputs": [
    {
     "data": {
      "image/png": "[encoded data removed]",
      "text/plain": [
       "<Figure size 432x288 with 1 Axes>"
      ]
     },
     "metadata": {
      "needs_background": "light"
     },
     "output_type": "display_data"
    }
   ],
   "source": [
    "slug['E/D'].plot()\n",
    "plt.xticks(rotation=90)\n",
    "plt.show()"
   ]
  },
  {
   "cell_type": "code",
   "execution_count": 27,
   "metadata": {},
   "outputs": [],
   "source": [
    "tmp = df[(df['Hero'] == 'Soldier: 76') & (df['Nick'] == 'slug') & (df['Mode'] == 'Quickplay') & (df['Stat'] == 'Critical Hit Accuracy')]"
   ]
  },
  {
   "cell_type": "code",
   "execution_count": 28,
   "metadata": {},
   "outputs": [
    {
     "name": "stdout",
     "output_type": "stream",
     "text": [
      "              Time       Mode  Nick         Hero                   Stat  Value\n",
      "409     2021-02-01  Quickplay  slug  Soldier: 76  Critical Hit Accuracy   0.07\n",
      "6167    2021-02-02  Quickplay  slug  Soldier: 76  Critical Hit Accuracy   0.07\n",
      "11925   2021-02-03  Quickplay  slug  Soldier: 76  Critical Hit Accuracy   0.07\n",
      "18048   2021-02-04  Quickplay  slug  Soldier: 76  Critical Hit Accuracy   0.07\n",
      "24320   2021-02-05  Quickplay  slug  Soldier: 76  Critical Hit Accuracy   0.07\n",
      "30718   2021-02-06  Quickplay  slug  Soldier: 76  Critical Hit Accuracy   0.07\n",
      "37118   2021-02-07  Quickplay  slug  Soldier: 76  Critical Hit Accuracy   0.07\n",
      "43518   2021-02-08  Quickplay  slug  Soldier: 76  Critical Hit Accuracy   0.07\n",
      "49942   2021-02-09  Quickplay  slug  Soldier: 76  Critical Hit Accuracy   0.07\n",
      "56367   2021-02-10  Quickplay  slug  Soldier: 76  Critical Hit Accuracy   0.07\n",
      "62962   2021-02-11  Quickplay  slug  Soldier: 76  Critical Hit Accuracy   0.07\n",
      "69609   2021-02-12  Quickplay  slug  Soldier: 76  Critical Hit Accuracy   0.07\n",
      "76258   2021-02-13  Quickplay  slug  Soldier: 76  Critical Hit Accuracy   0.07\n",
      "82946   2021-02-14  Quickplay  slug  Soldier: 76  Critical Hit Accuracy   0.07\n",
      "89665   2021-02-15  Quickplay  slug  Soldier: 76  Critical Hit Accuracy   0.07\n",
      "96445   2021-02-16  Quickplay  slug  Soldier: 76  Critical Hit Accuracy   0.07\n",
      "103243  2021-02-17  Quickplay  slug  Soldier: 76  Critical Hit Accuracy   0.07\n",
      "110109  2021-02-18  Quickplay  slug  Soldier: 76  Critical Hit Accuracy   0.07\n",
      "116975  2021-02-19  Quickplay  slug  Soldier: 76  Critical Hit Accuracy   0.07\n"
     ]
    }
   ],
   "source": [
    "print(tmp)"
   ]
  },
  {
   "cell_type": "code",
   "execution_count": 23,
   "metadata": {},
   "outputs": [],
   "source": [
    "diff_df = [df['Time'], df['Value'].diff()]"
   ]
  },
  {
   "cell_type": "code",
   "execution_count": 26,
   "metadata": {},
   "outputs": [
    {
     "ename": "AttributeError",
     "evalue": "'list' object has no attribute 'plot'",
     "output_type": "error",
     "traceback": [
      "\u001b[1;31m---------------------------------------------------------------------------\u001b[0m",
      "\u001b[1;31mAttributeError\u001b[0m                            Traceback (most recent call last)",
      "\u001b[1;32m<ipython-input-26-cac9057adf21>\u001b[0m in \u001b[0;36m<module>\u001b[1;34m\u001b[0m\n\u001b[1;32m----> 1\u001b[1;33m \u001b[0mdiff_df\u001b[0m\u001b[1;33m.\u001b[0m\u001b[0mplot\u001b[0m\u001b[1;33m(\u001b[0m\u001b[1;33m)\u001b[0m\u001b[1;33m\u001b[0m\u001b[1;33m\u001b[0m\u001b[0m\n\u001b[0m\u001b[0;32m      2\u001b[0m \u001b[0mplt\u001b[0m\u001b[1;33m.\u001b[0m\u001b[0mshow\u001b[0m\u001b[1;33m(\u001b[0m\u001b[1;33m)\u001b[0m\u001b[1;33m\u001b[0m\u001b[1;33m\u001b[0m\u001b[0m\n",
      "\u001b[1;31mAttributeError\u001b[0m: 'list' object has no attribute 'plot'"
     ]
    }
   ],
   "source": [
    "diff_df.plot()\n",
    "plt.show()"
   ]
  },
  {
   "cell_type": "code",
   "execution_count": null,
   "metadata": {},
   "outputs": [],
   "source": []
  }
 ],
 "metadata": {
  "kernelspec": {
   "display_name": "Python 3",
   "language": "python",
   "name": "python3"
  },
  "language_info": {
   "codemirror_mode": {
    "name": "ipython",
    "version": 3
   },
   "file_extension": ".py",
   "mimetype": "text/x-python",
   "name": "python",
   "nbconvert_exporter": "python",
   "pygments_lexer": "ipython3",
   "version": "3.8.5"
  }
 },
 "nbformat": 4,
 "nbformat_minor": 4
}
